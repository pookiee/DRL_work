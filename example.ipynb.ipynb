{
 "cells": [
  {
   "cell_type": "code",
   "execution_count": 1,
   "metadata": {},
   "outputs": [
    {
     "name": "stderr",
     "output_type": "stream",
     "text": [
      "2023-10-01 22:10:00,050\tWARNING deprecation.py:50 -- DeprecationWarning: `DirectStepOptimizer` has been deprecated. This will raise an error in the future!\n",
      "2023-10-01 22:10:00,293\tWARNING deprecation.py:50 -- DeprecationWarning: `build_tf_policy` has been deprecated. This will raise an error in the future!\n",
      "2023-10-01 22:10:00,301\tWARNING deprecation.py:50 -- DeprecationWarning: `build_policy_class` has been deprecated. This will raise an error in the future!\n"
     ]
    }
   ],
   "source": [
    "import os \n",
    "os.environ['CUDA_VISIBLE_DEVICES '] = '1,2,3'\n",
    "\n",
    "from ray.rllib.algorithms.dqn import DQNConfig\n",
    "from ray.rllib.offline.estimators import (\n",
    "    ImportanceSampling,\n",
    "    WeightedImportanceSampling,\n",
    "    DirectMethod,\n",
    "    DoublyRobust,\n",
    ")\n",
    "import gymnasium as gym\n",
    "\n",
    "from ray.rllib.offline.estimators.fqe_torch_model import FQETorchModel\n",
    "from gymnasium.spaces import Discrete, Box, Dict\n",
    "import numpy as np \n",
    "\n"
   ]
  },
  {
   "cell_type": "code",
   "execution_count": 2,
   "metadata": {},
   "outputs": [
    {
     "name": "stderr",
     "output_type": "stream",
     "text": [
      "/usr/local/lib/python3.8/dist-packages/ray/rllib/algorithms/algorithm.py:484: RayDeprecationWarning: This API is deprecated and may be removed in future Ray releases. You could suppress this warning by setting env variable PYTHONWARNINGS=\"ignore::DeprecationWarning\"\n",
      "`UnifiedLogger` will be removed in Ray 2.7.\n",
      "  return UnifiedLogger(config, logdir, loggers=None)\n",
      "/usr/local/lib/python3.8/dist-packages/ray/tune/logger/unified.py:53: RayDeprecationWarning: This API is deprecated and may be removed in future Ray releases. You could suppress this warning by setting env variable PYTHONWARNINGS=\"ignore::DeprecationWarning\"\n",
      "The `JsonLogger interface is deprecated in favor of the `ray.tune.json.JsonLoggerCallback` interface and will be removed in Ray 2.7.\n",
      "  self._loggers.append(cls(self.config, self.logdir, self.trial))\n",
      "/usr/local/lib/python3.8/dist-packages/ray/tune/logger/unified.py:53: RayDeprecationWarning: This API is deprecated and may be removed in future Ray releases. You could suppress this warning by setting env variable PYTHONWARNINGS=\"ignore::DeprecationWarning\"\n",
      "The `CSVLogger interface is deprecated in favor of the `ray.tune.csv.CSVLoggerCallback` interface and will be removed in Ray 2.7.\n",
      "  self._loggers.append(cls(self.config, self.logdir, self.trial))\n",
      "/usr/local/lib/python3.8/dist-packages/ray/tune/logger/unified.py:53: RayDeprecationWarning: This API is deprecated and may be removed in future Ray releases. You could suppress this warning by setting env variable PYTHONWARNINGS=\"ignore::DeprecationWarning\"\n",
      "The `TBXLogger interface is deprecated in favor of the `ray.tune.tensorboardx.TBXLoggerCallback` interface and will be removed in Ray 2.7.\n",
      "  self._loggers.append(cls(self.config, self.logdir, self.trial))\n",
      "2023-10-01 22:10:04,900\tINFO tensorboardx.py:48 -- pip install \"ray[tune]\" to see TensorBoard files.\n",
      "2023-10-01 22:10:04,901\tWARNING unified.py:56 -- Could not instantiate TBXLogger: cannot import name 'builder' from 'google.protobuf.internal' (/usr/local/lib/python3.8/dist-packages/google/protobuf/internal/__init__.py).\n"
     ]
    },
    {
     "name": "stdout",
     "output_type": "stream",
     "text": [
      "{'extra_python_environs_for_driver': {}, 'extra_python_environs_for_worker': {}, 'num_gpus': 0, 'num_cpus_per_worker': 1, 'num_gpus_per_worker': 0, '_fake_gpus': False, 'num_learner_workers': 0, 'num_gpus_per_learner_worker': 0, 'num_cpus_per_learner_worker': 1, 'local_gpu_idx': 0, 'custom_resources_per_worker': {}, 'placement_strategy': 'PACK', 'eager_tracing': True, 'eager_max_retraces': 20, 'tf_session_args': {'intra_op_parallelism_threads': 2, 'inter_op_parallelism_threads': 2, 'gpu_options': {'allow_growth': True}, 'log_device_placement': False, 'device_count': {'CPU': 1}, 'allow_soft_placement': True}, 'local_tf_session_args': {'intra_op_parallelism_threads': 8, 'inter_op_parallelism_threads': 8}, 'torch_compile_learner': False, 'torch_compile_learner_what_to_compile': <TorchCompileWhatToCompile.FORWARD_TRAIN: 'forward_train'>, 'torch_compile_learner_dynamo_backend': 'inductor', 'torch_compile_learner_dynamo_mode': None, 'torch_compile_worker': False, 'torch_compile_worker_dynamo_backend': 'onnxrt', 'torch_compile_worker_dynamo_mode': None, 'env': None, 'env_config': {}, 'observation_space': Dict('obs': Box(-10000.0, 100000.0, (32,), float32)), 'action_space': Discrete(2), 'env_task_fn': None, 'render_env': False, 'clip_rewards': None, 'normalize_actions': True, 'clip_actions': False, 'disable_env_checking': False, '_is_atari': None, 'auto_wrap_old_gym_envs': True, 'action_mask_key': 'action_mask', 'env_runner_cls': None, 'num_envs_per_worker': 1, 'sample_collector': <class 'ray.rllib.evaluation.collectors.simple_list_collector.SimpleListCollector'>, 'sample_async': False, 'enable_connectors': True, 'update_worker_filter_stats': True, 'use_worker_filter_stats': True, 'rollout_fragment_length': 200, 'batch_mode': 'truncate_episodes', 'remote_worker_envs': False, 'remote_env_batch_wait_ms': 0, 'validate_workers_after_construction': True, 'preprocessor_pref': 'deepmind', 'observation_filter': 'NoFilter', 'compress_observations': False, 'enable_tf1_exec_eagerly': False, 'sampler_perf_stats_ema_coef': None, 'gamma': 0.99, 'lr': 1e-05, 'grad_clip': None, 'grad_clip_by': 'global_norm', 'train_batch_size': 2000, 'model': {'_disable_preprocessor_api': False, '_disable_action_flattening': False, 'fcnet_hiddens': [256, 256], 'fcnet_activation': 'tanh', 'conv_filters': None, 'conv_activation': 'relu', 'post_fcnet_hiddens': [], 'post_fcnet_activation': 'relu', 'free_log_std': False, 'no_final_linear': False, 'vf_share_layers': True, 'use_lstm': False, 'max_seq_len': 20, 'lstm_cell_size': 256, 'lstm_use_prev_action': False, 'lstm_use_prev_reward': False, '_time_major': False, 'use_attention': False, 'attention_num_transformer_units': 1, 'attention_dim': 64, 'attention_num_heads': 1, 'attention_head_dim': 32, 'attention_memory_inference': 50, 'attention_memory_training': 50, 'attention_position_wise_mlp_dim': 32, 'attention_init_gru_gate_bias': 2.0, 'attention_use_n_prev_actions': 0, 'attention_use_n_prev_rewards': 0, 'framestack': True, 'dim': 84, 'grayscale': False, 'zero_mean': True, 'custom_model': None, 'custom_model_config': {}, 'custom_action_dist': None, 'custom_preprocessor': None, 'encoder_latent_dim': None, 'always_check_shapes': False, 'lstm_use_prev_action_reward': -1, '_use_default_native_models': -1}, 'optimizer': {}, 'max_requests_in_flight_per_sampler_worker': 2, '_learner_class': None, '_enable_learner_api': False, 'explore': True, 'exploration_config': {'type': 'StochasticSampling'}, 'algorithm_config_overrides_per_module': {}, 'policy_map_capacity': 100, 'policy_mapping_fn': <function AlgorithmConfig.DEFAULT_POLICY_MAPPING_FN at 0x7f8825f76a60>, 'policies_to_train': None, 'policy_states_are_swappable': False, 'observation_fn': None, 'count_steps_by': 'env_steps', 'input_config': {}, 'actions_in_input_normalized': False, 'postprocess_inputs': False, 'shuffle_buffer_size': 0, 'output': None, 'output_config': {}, 'output_compress_columns': ['obs', 'new_obs'], 'output_max_file_size': 67108864, 'offline_sampling': False, 'evaluation_interval': 2, 'evaluation_duration': 4, 'evaluation_duration_unit': 'episodes', 'evaluation_sample_timeout_s': 180.0, 'evaluation_parallel_to_training': False, 'evaluation_config': {'input': '/root/DRL/LVEF_reward_new2/1/test/output-2023-09-25_20-03-18_worker-0_0.json'}, 'off_policy_estimation_methods': {'is': {'type': <class 'ray.rllib.offline.estimators.importance_sampling.ImportanceSampling'>}, 'wis': {'type': <class 'ray.rllib.offline.estimators.weighted_importance_sampling.WeightedImportanceSampling'>}}, 'ope_split_batch_by_episode': True, 'evaluation_num_workers': 1, 'always_attach_evaluation_results': False, 'enable_async_evaluation': False, 'in_evaluation': False, 'sync_filters_on_rollout_workers_timeout_s': 60.0, 'keep_per_episode_custom_metrics': False, 'metrics_episode_collection_timeout_s': 60.0, 'metrics_num_episodes_for_smoothing': 100, 'min_time_s_per_iteration': None, 'min_train_timesteps_per_iteration': 0, 'min_sample_timesteps_per_iteration': 0, 'export_native_model_files': False, 'checkpoint_trainable_policies_only': False, 'logger_creator': None, 'logger_config': None, 'log_level': 'WARN', 'log_sys_usage': True, 'fake_sampler': False, 'seed': None, 'ignore_worker_failures': False, 'recreate_failed_workers': False, 'max_num_worker_restarts': 1000, 'delay_between_worker_restarts_s': 60.0, 'restart_failed_sub_environments': False, 'num_consecutive_worker_failures_tolerance': 100, 'worker_health_probe_timeout_s': 60, 'worker_restore_timeout_s': 1800, 'rl_module_spec': None, '_enable_rl_module_api': False, '_AlgorithmConfig__prior_exploration_config': None, '_tf_policy_handles_more_than_one_loss': False, '_disable_preprocessor_api': False, '_disable_action_flattening': False, '_disable_execution_plan_api': True, '_disable_initialize_loss_from_dummy_batch': False, 'simple_optimizer': -1, 'policy_map_cache': -1, 'worker_cls': -1, 'synchronize_filters': -1, 'replay_sequence_length': None, 'beta': 0.0, 'bc_logstd_coeff': 0.0, 'moving_average_sqd_adv_norm_update_rate': 1e-08, 'moving_average_sqd_adv_norm_start': 100.0, 'use_gae': True, 'vf_coeff': 1.0, '_set_off_policy_estimation_methods': True, 'input': '/root/DRL/LVEF_reward_new2/0/train/output-2023-09-25_20-03-15_worker-0_0.json', 'policies': {'default_policy': (None, None, None, None)}, 'callbacks': <class 'ray.rllib.algorithms.callbacks.DefaultCallbacks'>, 'create_env_on_driver': False, 'custom_eval_function': None, 'framework': 'tf', 'num_cpus_for_driver': 1, 'num_workers': 0}\n"
     ]
    },
    {
     "name": "stderr",
     "output_type": "stream",
     "text": [
      "2023-10-01 22:10:05,492\tWARNING deprecation.py:50 -- DeprecationWarning: `ray.rllib.models.tf.fcnet.FullyConnectedNetwork` has been deprecated. This will raise an error in the future!\n",
      "2023-10-01 22:10:05,494\tWARNING deprecation.py:50 -- DeprecationWarning: `ray.rllib.models.tf.tf_modelv2.TFModelV2` has been deprecated. Use `ray.rllib.core.rl_module.RLModule` instead. This will raise an error in the future!\n",
      "2023-10-01 22:10:05,501\tWARNING deprecation.py:50 -- DeprecationWarning: `ray.rllib.models.tf.misc.normc_initializer` has been deprecated. This will raise an error in the future!\n",
      "2023-10-01 22:10:05,555\tWARNING deprecation.py:50 -- DeprecationWarning: `StochasticSampling` has been deprecated. This will raise an error in the future!\n",
      "2023-10-01 22:10:05,556\tWARNING deprecation.py:50 -- DeprecationWarning: `Exploration` has been deprecated. This will raise an error in the future!\n",
      "2023-10-01 22:10:05,557\tWARNING deprecation.py:50 -- DeprecationWarning: `Random` has been deprecated. This will raise an error in the future!\n",
      "2023-10-01 22:10:05,575\tWARNING deprecation.py:50 -- DeprecationWarning: `ray.rllib.models.tf.tf_action_dist.Categorical` has been deprecated. Use `ray.rllib.models.tf.tf_distributions.Categorical` instead. This will raise an error in the future!\n",
      "2023-10-01 22:10:05,579\tWARNING deprecation.py:50 -- DeprecationWarning: `ray.rllib.models.tf.tf_action_dist.TFActionDistribution` has been deprecated. Use `ray.rllib.models.tf.tf_distributions.TfDistribution` instead. This will raise an error in the future!\n",
      "2023-10-01 22:10:05,616\tWARNING deprecation.py:50 -- DeprecationWarning: `TFPolicy` has been deprecated. This will raise an error in the future!\n",
      "2023-10-01 22:10:05,636\tWARNING deprecation.py:50 -- DeprecationWarning: `ValueNetworkMixin` has been deprecated. This will raise an error in the future!\n",
      "2023-10-01 22:10:05,800\tWARNING deprecation.py:50 -- DeprecationWarning: `compute_gradients` has been deprecated. This will raise an error in the future!\n",
      "2023-10-01 22:10:08,111\tWARNING services.py:1832 -- WARNING: The object store is using /tmp instead of /dev/shm because /dev/shm has only 67108864 bytes available. This will harm performance! You may be able to free up space by deleting files in /dev/shm. If you are inside a Docker container, you can increase /dev/shm size by passing '--shm-size=10.24gb' to 'docker run' (or add it to the run_options list in a Ray cluster config). Make sure to set this to more than 30% of available RAM.\n",
      "2023-10-01 22:10:08,247\tINFO worker.py:1621 -- Started a local Ray instance.\n",
      "\u001b[2m\u001b[36m(pid=21992)\u001b[0m DeprecationWarning: `DirectStepOptimizer` has been deprecated. This will raise an error in the future!\n",
      "\u001b[2m\u001b[36m(RolloutWorker pid=21992)\u001b[0m 2023-10-01 22:10:13,669\tWARNING deprecation.py:50 -- DeprecationWarning: `ray.rllib.models.tf.fcnet.FullyConnectedNetwork` has been deprecated. This will raise an error in the future!\n",
      "\u001b[2m\u001b[36m(RolloutWorker pid=21992)\u001b[0m 2023-10-01 22:10:13,669\tWARNING deprecation.py:50 -- DeprecationWarning: `ray.rllib.models.tf.tf_modelv2.TFModelV2` has been deprecated. Use `ray.rllib.core.rl_module.RLModule` instead. This will raise an error in the future!\n",
      "\u001b[2m\u001b[36m(RolloutWorker pid=21992)\u001b[0m 2023-10-01 22:10:13,674\tWARNING deprecation.py:50 -- DeprecationWarning: `ray.rllib.models.tf.misc.normc_initializer` has been deprecated. This will raise an error in the future!\n",
      "\u001b[2m\u001b[36m(RolloutWorker pid=21992)\u001b[0m 2023-10-01 22:10:13,730\tWARNING deprecation.py:50 -- DeprecationWarning: `StochasticSampling` has been deprecated. This will raise an error in the future!\n",
      "\u001b[2m\u001b[36m(RolloutWorker pid=21992)\u001b[0m 2023-10-01 22:10:13,730\tWARNING deprecation.py:50 -- DeprecationWarning: `Exploration` has been deprecated. This will raise an error in the future!\n",
      "\u001b[2m\u001b[36m(RolloutWorker pid=21992)\u001b[0m 2023-10-01 22:10:13,730\tWARNING deprecation.py:50 -- DeprecationWarning: `Random` has been deprecated. This will raise an error in the future!\n",
      "\u001b[2m\u001b[36m(RolloutWorker pid=21992)\u001b[0m 2023-10-01 22:10:13,746\tWARNING deprecation.py:50 -- DeprecationWarning: `ray.rllib.models.tf.tf_action_dist.Categorical` has been deprecated. Use `ray.rllib.models.tf.tf_distributions.Categorical` instead. This will raise an error in the future!\n",
      "\u001b[2m\u001b[36m(RolloutWorker pid=21992)\u001b[0m 2023-10-01 22:10:13,748\tWARNING deprecation.py:50 -- DeprecationWarning: `ray.rllib.models.tf.tf_action_dist.TFActionDistribution` has been deprecated. Use `ray.rllib.models.tf.tf_distributions.TfDistribution` instead. This will raise an error in the future!\n",
      "\u001b[2m\u001b[36m(RolloutWorker pid=21992)\u001b[0m 2023-10-01 22:10:13,785\tWARNING deprecation.py:50 -- DeprecationWarning: `TFPolicy` has been deprecated. This will raise an error in the future!\n",
      "\u001b[2m\u001b[36m(RolloutWorker pid=21992)\u001b[0m 2023-10-01 22:10:13,792\tWARNING deprecation.py:50 -- DeprecationWarning: `ValueNetworkMixin` has been deprecated. This will raise an error in the future!\n",
      "\u001b[2m\u001b[36m(RolloutWorker pid=21992)\u001b[0m 2023-10-01 22:10:13,909\tWARNING deprecation.py:50 -- DeprecationWarning: `compute_gradients` has been deprecated. This will raise an error in the future!\n",
      "2023-10-01 22:10:14,850\tWARNING util.py:68 -- Install gputil for GPU system monitoring.\n",
      "2023-10-01 22:10:15,061\tWARNING deprecation.py:50 -- DeprecationWarning: `ray.rllib.execution.train_ops.multi_gpu_train_one_step` has been deprecated. This will raise an error in the future!\n",
      "2023-10-01 22:10:15,187\tWARNING deprecation.py:50 -- DeprecationWarning: `remote_workers()` has been deprecated. Use `Use either the `foreach_worker()`, `foreach_worker_with_id()`, or `foreach_worker_async()` APIs of `WorkerSet`, which all handle fault tolerance.` instead. This will raise an error in the future!\n"
     ]
    },
    {
     "ename": "ValueError",
     "evalue": "eps_id 501 was already passed to the peek function. Make sure dataset contains only unique episodes with unique ids.",
     "output_type": "error",
     "traceback": [
      "\u001b[0;31m---------------------------------------------------------------------------\u001b[0m",
      "\u001b[0;31mValueError\u001b[0m                                Traceback (most recent call last)",
      "\u001b[1;32m/root/DRL/app copy.ipynb Cell 2\u001b[0m in \u001b[0;36m3\n\u001b[1;32m     <a href='vscode-notebook-cell://attached-container%2B7b22636f6e7461696e65724e616d65223a222f4352545f4b414c415253454e222c2273657474696e6773223a7b22686f7374223a227373683a2f2f6e6f6465322e72657365617263682e6d74752e656475227d7d/root/DRL/app%20copy.ipynb#W3sdnNjb2RlLXJlbW90ZQ%3D%3D?line=27'>28</a>\u001b[0m algo \u001b[39m=\u001b[39m config\u001b[39m.\u001b[39mbuild()  \n\u001b[1;32m     <a href='vscode-notebook-cell://attached-container%2B7b22636f6e7461696e65724e616d65223a222f4352545f4b414c415253454e222c2273657474696e6773223a7b22686f7374223a227373683a2f2f6e6f6465322e72657365617263682e6d74752e656475227d7d/root/DRL/app%20copy.ipynb#W3sdnNjb2RlLXJlbW90ZQ%3D%3D?line=29'>30</a>\u001b[0m \u001b[39mfor\u001b[39;00m _ \u001b[39min\u001b[39;00m \u001b[39mrange\u001b[39m(\u001b[39m3\u001b[39m):\n\u001b[0;32m---> <a href='vscode-notebook-cell://attached-container%2B7b22636f6e7461696e65724e616d65223a222f4352545f4b414c415253454e222c2273657474696e6773223a7b22686f7374223a227373683a2f2f6e6f6465322e72657365617263682e6d74752e656475227d7d/root/DRL/app%20copy.ipynb#W3sdnNjb2RlLXJlbW90ZQ%3D%3D?line=30'>31</a>\u001b[0m     algo\u001b[39m.\u001b[39;49mtrain()  \n",
      "File \u001b[0;32m/usr/local/lib/python3.8/dist-packages/ray/tune/trainable/trainable.py:375\u001b[0m, in \u001b[0;36mTrainable.train\u001b[0;34m(self)\u001b[0m\n\u001b[1;32m    373\u001b[0m \u001b[39mexcept\u001b[39;00m \u001b[39mException\u001b[39;00m \u001b[39mas\u001b[39;00m e:\n\u001b[1;32m    374\u001b[0m     skipped \u001b[39m=\u001b[39m skip_exceptions(e)\n\u001b[0;32m--> 375\u001b[0m     \u001b[39mraise\u001b[39;00m skipped \u001b[39mfrom\u001b[39;00m \u001b[39mexception_cause\u001b[39;00m(skipped)\n\u001b[1;32m    377\u001b[0m \u001b[39massert\u001b[39;00m \u001b[39misinstance\u001b[39m(result, \u001b[39mdict\u001b[39m), \u001b[39m\"\u001b[39m\u001b[39mstep() needs to return a dict.\u001b[39m\u001b[39m\"\u001b[39m\n\u001b[1;32m    379\u001b[0m \u001b[39m# We do not modify internal state nor update this result if duplicate.\u001b[39;00m\n",
      "File \u001b[0;32m/usr/local/lib/python3.8/dist-packages/ray/tune/trainable/trainable.py:372\u001b[0m, in \u001b[0;36mTrainable.train\u001b[0;34m(self)\u001b[0m\n\u001b[1;32m    370\u001b[0m start \u001b[39m=\u001b[39m time\u001b[39m.\u001b[39mtime()\n\u001b[1;32m    371\u001b[0m \u001b[39mtry\u001b[39;00m:\n\u001b[0;32m--> 372\u001b[0m     result \u001b[39m=\u001b[39m \u001b[39mself\u001b[39;49m\u001b[39m.\u001b[39;49mstep()\n\u001b[1;32m    373\u001b[0m \u001b[39mexcept\u001b[39;00m \u001b[39mException\u001b[39;00m \u001b[39mas\u001b[39;00m e:\n\u001b[1;32m    374\u001b[0m     skipped \u001b[39m=\u001b[39m skip_exceptions(e)\n",
      "File \u001b[0;32m/usr/local/lib/python3.8/dist-packages/ray/rllib/algorithms/algorithm.py:857\u001b[0m, in \u001b[0;36mAlgorithm.step\u001b[0;34m(self)\u001b[0m\n\u001b[1;32m    855\u001b[0m \u001b[39m# Sequential: Train (already done above), then evaluate.\u001b[39;00m\n\u001b[1;32m    856\u001b[0m \u001b[39mif\u001b[39;00m evaluate_this_iter \u001b[39mand\u001b[39;00m \u001b[39mnot\u001b[39;00m \u001b[39mself\u001b[39m\u001b[39m.\u001b[39mconfig\u001b[39m.\u001b[39mevaluation_parallel_to_training:\n\u001b[0;32m--> 857\u001b[0m     results\u001b[39m.\u001b[39mupdate(\u001b[39mself\u001b[39;49m\u001b[39m.\u001b[39;49m_run_one_evaluation(train_future\u001b[39m=\u001b[39;49m\u001b[39mNone\u001b[39;49;00m))\n\u001b[1;32m    859\u001b[0m \u001b[39m# Attach latest available evaluation results to train results,\u001b[39;00m\n\u001b[1;32m    860\u001b[0m \u001b[39m# if necessary.\u001b[39;00m\n\u001b[1;32m    861\u001b[0m \u001b[39mif\u001b[39;00m \u001b[39mnot\u001b[39;00m evaluate_this_iter \u001b[39mand\u001b[39;00m \u001b[39mself\u001b[39m\u001b[39m.\u001b[39mconfig\u001b[39m.\u001b[39malways_attach_evaluation_results:\n",
      "File \u001b[0;32m/usr/local/lib/python3.8/dist-packages/ray/rllib/algorithms/algorithm.py:2882\u001b[0m, in \u001b[0;36mAlgorithm._run_one_evaluation\u001b[0;34m(self, train_future)\u001b[0m\n\u001b[1;32m   2871\u001b[0m     eval_results \u001b[39m=\u001b[39m eval_func_to_use(\n\u001b[1;32m   2872\u001b[0m         duration_fn\u001b[39m=\u001b[39mfunctools\u001b[39m.\u001b[39mpartial(\n\u001b[1;32m   2873\u001b[0m             \u001b[39mself\u001b[39m\u001b[39m.\u001b[39m_automatic_evaluation_duration_fn,\n\u001b[0;32m   (...)\u001b[0m\n\u001b[1;32m   2878\u001b[0m         )\n\u001b[1;32m   2879\u001b[0m     )\n\u001b[1;32m   2880\u001b[0m \u001b[39m# Run `self.evaluate()` only once per training iteration.\u001b[39;00m\n\u001b[1;32m   2881\u001b[0m \u001b[39melse\u001b[39;00m:\n\u001b[0;32m-> 2882\u001b[0m     eval_results \u001b[39m=\u001b[39m eval_func_to_use()\n\u001b[1;32m   2884\u001b[0m \u001b[39mif\u001b[39;00m \u001b[39mself\u001b[39m\u001b[39m.\u001b[39mevaluation_workers \u001b[39mis\u001b[39;00m \u001b[39mnot\u001b[39;00m \u001b[39mNone\u001b[39;00m:\n\u001b[1;32m   2885\u001b[0m     \u001b[39m# After evaluation, do a round of health check to see if any of\u001b[39;00m\n\u001b[1;32m   2886\u001b[0m     \u001b[39m# the failed workers are back.\u001b[39;00m\n\u001b[1;32m   2887\u001b[0m     \u001b[39mself\u001b[39m\u001b[39m.\u001b[39mrestore_workers(\u001b[39mself\u001b[39m\u001b[39m.\u001b[39mevaluation_workers)\n",
      "File \u001b[0;32m/usr/local/lib/python3.8/dist-packages/ray/rllib/algorithms/algorithm.py:1135\u001b[0m, in \u001b[0;36mAlgorithm.evaluate\u001b[0;34m(self, duration_fn)\u001b[0m\n\u001b[1;32m   1133\u001b[0m \u001b[39mfor\u001b[39;00m name, estimator \u001b[39min\u001b[39;00m \u001b[39mself\u001b[39m\u001b[39m.\u001b[39mreward_estimators\u001b[39m.\u001b[39mitems():\n\u001b[1;32m   1134\u001b[0m     \u001b[39mfor\u001b[39;00m batch \u001b[39min\u001b[39;00m all_batches:\n\u001b[0;32m-> 1135\u001b[0m         estimate_result \u001b[39m=\u001b[39m estimator\u001b[39m.\u001b[39;49mestimate(\n\u001b[1;32m   1136\u001b[0m             batch,\n\u001b[1;32m   1137\u001b[0m             split_batch_by_episode\u001b[39m=\u001b[39;49m\u001b[39mself\u001b[39;49m\u001b[39m.\u001b[39;49mconfig\u001b[39m.\u001b[39;49mope_split_batch_by_episode,\n\u001b[1;32m   1138\u001b[0m         )\n\u001b[1;32m   1139\u001b[0m         estimates[name]\u001b[39m.\u001b[39mappend(estimate_result)\n\u001b[1;32m   1141\u001b[0m \u001b[39m# collate estimates from all batches\u001b[39;00m\n",
      "File \u001b[0;32m/usr/local/lib/python3.8/dist-packages/ray/rllib/offline/estimators/off_policy_estimator.py:168\u001b[0m, in \u001b[0;36mOffPolicyEstimator.estimate\u001b[0;34m(self, batch, split_batch_by_episode)\u001b[0m\n\u001b[1;32m    161\u001b[0m \u001b[39mfor\u001b[39;00m episode \u001b[39min\u001b[39;00m all_episodes:\n\u001b[1;32m    162\u001b[0m     \u001b[39massert\u001b[39;00m \u001b[39mlen\u001b[39m(\u001b[39mset\u001b[39m(episode[SampleBatch\u001b[39m.\u001b[39mEPS_ID])) \u001b[39m==\u001b[39m \u001b[39m1\u001b[39m, (\n\u001b[1;32m    163\u001b[0m         \u001b[39m\"\u001b[39m\u001b[39mThe episode must contain only one episode id. For some reason \u001b[39m\u001b[39m\"\u001b[39m\n\u001b[1;32m    164\u001b[0m         \u001b[39m\"\u001b[39m\u001b[39mthe split_by_episode() method could not successfully split \u001b[39m\u001b[39m\"\u001b[39m\n\u001b[1;32m    165\u001b[0m         \u001b[39m\"\u001b[39m\u001b[39mthe batch by episodes. Each row in the dataset should be \u001b[39m\u001b[39m\"\u001b[39m\n\u001b[1;32m    166\u001b[0m         \u001b[39m\"\u001b[39m\u001b[39mone episode. Check your evaluation dataset for errors.\u001b[39m\u001b[39m\"\u001b[39m\n\u001b[1;32m    167\u001b[0m     )\n\u001b[0;32m--> 168\u001b[0m     \u001b[39mself\u001b[39;49m\u001b[39m.\u001b[39;49mpeek_on_single_episode(episode)\n\u001b[1;32m    170\u001b[0m \u001b[39mfor\u001b[39;00m episode \u001b[39min\u001b[39;00m all_episodes:\n\u001b[1;32m    171\u001b[0m     estimate_step_results \u001b[39m=\u001b[39m \u001b[39mself\u001b[39m\u001b[39m.\u001b[39mestimate_on_single_episode(episode)\n",
      "File \u001b[0;32m/usr/local/lib/python3.8/dist-packages/ray/rllib/offline/estimators/weighted_importance_sampling.py:127\u001b[0m, in \u001b[0;36mWeightedImportanceSampling.peek_on_single_episode\u001b[0;34m(self, episode)\u001b[0m\n\u001b[1;32m    125\u001b[0m eps_id \u001b[39m=\u001b[39m episode[SampleBatch\u001b[39m.\u001b[39mEPS_ID][\u001b[39m0\u001b[39m]\n\u001b[1;32m    126\u001b[0m \u001b[39mif\u001b[39;00m eps_id \u001b[39min\u001b[39;00m \u001b[39mself\u001b[39m\u001b[39m.\u001b[39mp:\n\u001b[0;32m--> 127\u001b[0m     \u001b[39mraise\u001b[39;00m \u001b[39mValueError\u001b[39;00m(\n\u001b[1;32m    128\u001b[0m         \u001b[39mf\u001b[39m\u001b[39m\"\u001b[39m\u001b[39meps_id \u001b[39m\u001b[39m{\u001b[39;00meps_id\u001b[39m}\u001b[39;00m\u001b[39m was already passed to the peek function. \u001b[39m\u001b[39m\"\u001b[39m\n\u001b[1;32m    129\u001b[0m         \u001b[39mf\u001b[39m\u001b[39m\"\u001b[39m\u001b[39mMake sure dataset contains only unique episodes with unique ids.\u001b[39m\u001b[39m\"\u001b[39m\n\u001b[1;32m    130\u001b[0m     )\n\u001b[1;32m    131\u001b[0m \u001b[39mself\u001b[39m\u001b[39m.\u001b[39mp[eps_id] \u001b[39m=\u001b[39m episode_p\n",
      "\u001b[0;31mValueError\u001b[0m: eps_id 501 was already passed to the peek function. Make sure dataset contains only unique episodes with unique ids."
     ]
    }
   ],
   "source": [
    "from ray.rllib.algorithms.marwil import MARWILConfig\n",
    "from ray.rllib.algorithms.cql import CQLConfig\n",
    "from ray.rllib.algorithms.bc import BCConfig\n",
    "\n",
    "config = BCConfig().training(lr=0.00001, gamma=0.99).framework(\"tf\").environment(observation_space = Dict({\n",
    "\t    'obs': Box(low = -10000, high = 100000, shape=(32,), dtype = np.float32)\n",
    "    }),\n",
    "    action_space = Discrete(2) )\n",
    "\n",
    "config = config.offline_data(  \n",
    "    input_=\"/root/DRL/LVEF_reward_new2/0/train/output-2023-09-25_20-03-15_worker-0_0.json\")\n",
    "\n",
    "config = config.evaluation(\n",
    "        evaluation_interval=2,\n",
    "        evaluation_duration=4,\n",
    "        evaluation_num_workers=1,\n",
    "        evaluation_duration_unit=\"episodes\",\n",
    "        evaluation_config={\"input\": \"/root/DRL/LVEF_reward_new2/1/test/output-2023-09-25_20-03-18_worker-0_0.json\"},\n",
    "        off_policy_estimation_methods={\n",
    "            \"is\": {\"type\": ImportanceSampling},\n",
    "            \"wis\": {\"type\": WeightedImportanceSampling}        \n",
    "            },\n",
    "    )\n",
    "\n",
    "\n",
    "print(config.to_dict())  \n",
    "# Build an Algorithm object from the config and run 1 training iteration.\n",
    "algo = config.build()  \n",
    "\n",
    "for _ in range(3):\n",
    "    algo.train()  "
   ]
  }
 ],
 "metadata": {
  "kernelspec": {
   "display_name": "Python 3",
   "language": "python",
   "name": "python3"
  },
  "language_info": {
   "codemirror_mode": {
    "name": "ipython",
    "version": 3
   },
   "file_extension": ".py",
   "mimetype": "text/x-python",
   "name": "python",
   "nbconvert_exporter": "python",
   "pygments_lexer": "ipython3",
   "version": "3.8.10"
  },
  "orig_nbformat": 4
 },
 "nbformat": 4,
 "nbformat_minor": 2
}
